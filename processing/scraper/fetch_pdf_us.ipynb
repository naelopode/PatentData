{
 "cells": [
  {
   "cell_type": "code",
   "execution_count": null,
   "id": "b0fda183",
   "metadata": {},
   "outputs": [],
   "source": [
    "import os\n",
    "from pymongo import UpdateOne\n",
    "from tqdm import tqdm\n",
    "from pymongo import MongoClient\n",
    "import pandas as pd\n",
    "import matplotlib.pyplot as plt\n",
    "from datetime import datetime\n",
    "from bs4 import BeautifulSoup\n",
    "import requests\n",
    "import os\n",
    "import time\n",
    "import random\n",
    "client = MongoClient(\"localhost\", 29012)\n",
    "db = client[\"test-database\"]\n",
    "collection_json = db[\"collection-json\"]"
   ]
  },
  {
   "cell_type": "code",
   "execution_count": null,
   "id": "9822deae",
   "metadata": {},
   "outputs": [],
   "source": [
    "for item in tqdm(list(collection_json.find({'Country':\"US\", 'OCR': {'$exists': True}, 'Title': {'$exists': True}, 'C_Application Date': {'$exists': True}, 'C_Publication Date': {'$exists': True}, 'clean_applicants': {'$exists': True}, 'clean_inventor': {'$exists': True}}).limit(100))):\n",
    "    patent_number = f\"{item['Country']}{item['Publication Number']}{item['Doc_kind']}\"\n",
    "    response = requests.get(f'https://patents.google.com/patent/{patent_number}/en?oq={patent_number}')\n",
    "    soup = BeautifulSoup(response.text, 'html.parser')\n",
    "    pdf_urls = [a['href'] for a in soup.find_all('a', href=True) if a['href'].startswith('https://patentimages.storage.googleapis.com') and a['href'].endswith('.pdf')]\n",
    "    print(pdf_urls)\n",
    "    # Download the PDF from the URL\n",
    "    pdf_url = pdf_urls[0]\n",
    "    folder_name = 'us_sample_patents'\n",
    "    os.makedirs(folder_name, exist_ok=True)\n",
    "    pdf_file_path = os.path.join(folder_name, f\"{patent_number}.pdf\")\n",
    "\n",
    "    response = requests.get(pdf_url)\n",
    "    with open(pdf_file_path, \"wb\") as pdf_file:\n",
    "        pdf_file.write(response.content)\n",
    "\n",
    "    print(f\"PDF downloaded and saved to {pdf_file_path}\")\n",
    "    time.sleep(random.uniform(2, 7))\n"
   ]
  }
 ],
 "metadata": {
  "kernelspec": {
   "display_name": "metadata",
   "language": "python",
   "name": "python3"
  },
  "language_info": {
   "codemirror_mode": {
    "name": "ipython",
    "version": 3
   },
   "file_extension": ".py",
   "mimetype": "text/x-python",
   "name": "python",
   "nbconvert_exporter": "python",
   "pygments_lexer": "ipython3",
   "version": "3.10.9"
  }
 },
 "nbformat": 4,
 "nbformat_minor": 5
}
